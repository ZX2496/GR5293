{
 "cells": [
  {
   "cell_type": "code",
   "execution_count": 1,
   "id": "ef522441-c98c-47a8-a6bf-cc28bb2bc482",
   "metadata": {},
   "outputs": [
    {
     "name": "stdout",
     "output_type": "stream",
     "text": [
      "openai: 1.75.0. Suggested version: 1.75.0\n",
      "ipywidgets: 8.1.6. Suggested version: 8.1.6\n"
     ]
    }
   ],
   "source": [
    "import openai\n",
    "import ipywidgets as widgets\n",
    "\n",
    "print(f\"openai: {openai.__version__}. Suggested version: 1.75.0\")\n",
    "print(f\"ipywidgets: {widgets.__version__}. Suggested version: 8.1.6\")"
   ]
  },
  {
   "cell_type": "markdown",
   "id": "ffff2e00",
   "metadata": {},
   "source": [
    "# run the following code if the environment does not match"
   ]
  },
  {
   "cell_type": "code",
   "execution_count": null,
   "id": "c4781bbf",
   "metadata": {},
   "outputs": [],
   "source": [
    "!pip install openai==1.75.0 ipywidgets==8.1.6\n",
    "!pip install datasets\n",
    "# you may need to restart the computer for the environment to be installed correctly"
   ]
  },
  {
   "cell_type": "code",
   "execution_count": 2,
   "id": "c1d93796-e1cb-4188-ac0a-f046372cfaca",
   "metadata": {},
   "outputs": [
    {
     "name": "stdout",
     "output_type": "stream",
     "text": [
      "Question: Natalia sold clips to 48 of her friends in April, and then she sold half as many clips in May. How many clips did Natalia sell altogether in April and May?\n",
      "Answer: Natalia sold 48/2 = <<48/2=24>>24 clips in May.\n",
      "Natalia sold 48+24 = <<48+24=72>>72 clips altogether in April and May.\n",
      "#### 72\n"
     ]
    }
   ],
   "source": [
    "from datasets import load_dataset\n",
    "\n",
    "# Load GSM8K dataset from Hugging Face\n",
    "gsm8k = load_dataset(\"gsm8k\", \"main\")\n",
    "\n",
    "# View one example\n",
    "sample = gsm8k['train'][0]\n",
    "print(\"Question:\", sample['question'])\n",
    "print(\"Answer:\", sample['answer'])"
   ]
  },
  {
   "cell_type": "markdown",
   "id": "62571359",
   "metadata": {},
   "source": [
    "# Change directory to where your data is located"
   ]
  },
  {
   "cell_type": "code",
   "execution_count": 3,
   "id": "72c4d5ea",
   "metadata": {},
   "outputs": [],
   "source": [
    "import os\n",
    "data_dir = \"grade-school-math-master/grade_school_math/data\"\n",
    "os.chdir(data_dir)"
   ]
  },
  {
   "cell_type": "code",
   "execution_count": 4,
   "id": "4df4e4e2-07fd-46c6-a93f-ef82302cdce8",
   "metadata": {},
   "outputs": [
    {
     "name": "stdout",
     "output_type": "stream",
     "text": [
      "{'question': 'Natalia sold clips to 48 of her friends in April, and then she sold half as many clips in May. How many clips did Natalia sell altogether in April and May?', 'answer': 'Natalia sold 48/2 = <<48/2=24>>24 clips in May.\\nNatalia sold 48+24 = <<48+24=72>>72 clips altogether in April and May.\\n#### 72'}\n"
     ]
    }
   ],
   "source": [
    "import json\n",
    "\n",
    "# Load the GSM8K train set\n",
    "def load_jsonl(file_path):\n",
    "    data = []\n",
    "    with open(file_path, \"r\", encoding=\"utf-8\") as f:\n",
    "        for line in f:\n",
    "            data.append(json.loads(line))\n",
    "    return data\n",
    "\n",
    "train_data = load_jsonl(\"train.jsonl\")\n",
    "\n",
    "# Show the first example\n",
    "print(train_data[0])"
   ]
  },
  {
   "cell_type": "code",
   "execution_count": 5,
   "id": "b7b213ae-5b96-42fe-b92c-c7136627a71d",
   "metadata": {},
   "outputs": [],
   "source": [
    "# Setup (run only once)\n",
    "import json\n",
    "import random\n",
    "from IPython.display import display, Markdown, Javascript\n",
    "import ipywidgets as widgets\n",
    "\n",
    "def load_data(file_path=\"train.jsonl\"):\n",
    "    with open(file_path, \"r\", encoding=\"utf-8\") as f:\n",
    "        return [json.loads(line) for line in f]\n",
    "\n",
    "def on_submit(b):\n",
    "    output.clear_output()\n",
    "    user_answer = answer_input.value.strip()\n",
    "    try:\n",
    "        final_answer_str = correct_answer.split(\"####\")[-1].strip()\n",
    "        user_val = float(user_answer.replace(\",\", \"\"))\n",
    "        correct_val = float(final_answer_str.replace(\",\", \"\"))\n",
    "        result = \"✅ Correct!\" if user_val == correct_val else f\"❌ Incorrect. The correct answer is: {final_answer_str}\"\n",
    "    except Exception as e:\n",
    "        result = f\"⚠️ Error in processing the answer: {e}\"\n",
    "    with output:\n",
    "        print(result)\n",
    "        print(\"\\nCorrect Answer Explanation:\")\n",
    "        print(correct_answer)\n",
    "\n",
    "def rerun_current_cell(ev=None):\n",
    "    display(Javascript(\"Jupyter.notebook.execute_cell()\"))\n",
    "\n",
    "data = load_data()\n",
    "\n",
    "answer_input = widgets.Text(\n",
    "    placeholder='Type your answer here...',\n",
    "    description='Your Answer:',\n",
    "    style={'description_width': 'initial'},\n",
    "    layout=widgets.Layout(width='50%')\n",
    ")\n",
    "\n",
    "submit_button = widgets.Button(description=\"Submit Answer\", button_style='success')\n",
    "output = widgets.Output()\n",
    "next_button = widgets.Button(description=\"Next Question\", button_style='info')\n",
    "\n",
    "submit_button.on_click(on_submit)\n",
    "next_button.on_click(rerun_current_cell)"
   ]
  },
  {
   "cell_type": "markdown",
   "id": "bcebb546",
   "metadata": {},
   "source": [
    "## Random question and Answer check"
   ]
  },
  {
   "cell_type": "code",
   "execution_count": 6,
   "id": "f314925e",
   "metadata": {},
   "outputs": [
    {
     "data": {
      "text/markdown": [
       "### 🧮 Question:\n",
       "Lennon is a sales rep and is paid $0.36 in mileage reimbursement when he travels to meet with clients.  On Monday he drove 18 miles.  Tuesday he drove 26 miles.  Wednesday and Thursday he drove 20 miles each day and on Friday he drove 16 miles.  How much money will he be reimbursed?"
      ],
      "text/plain": [
       "<IPython.core.display.Markdown object>"
      ]
     },
     "metadata": {},
     "output_type": "display_data"
    },
    {
     "data": {
      "application/vnd.jupyter.widget-view+json": {
       "model_id": "911eca1294104262a0128591bb3748fa",
       "version_major": 2,
       "version_minor": 0
      },
      "text/plain": [
       "Text(value='', description='Your Answer:', layout=Layout(width='50%'), placeholder='Type your answer here...',…"
      ]
     },
     "metadata": {},
     "output_type": "display_data"
    },
    {
     "data": {
      "application/vnd.jupyter.widget-view+json": {
       "model_id": "46410e1aa44744b0ac3c3da94cd41a5c",
       "version_major": 2,
       "version_minor": 0
      },
      "text/plain": [
       "Button(button_style='success', description='Submit Answer', style=ButtonStyle())"
      ]
     },
     "metadata": {},
     "output_type": "display_data"
    },
    {
     "data": {
      "application/vnd.jupyter.widget-view+json": {
       "model_id": "c98a5cc42f254c37879e82b529d1a637",
       "version_major": 2,
       "version_minor": 0
      },
      "text/plain": [
       "Output()"
      ]
     },
     "metadata": {},
     "output_type": "display_data"
    },
    {
     "data": {
      "application/vnd.jupyter.widget-view+json": {
       "model_id": "50ddcb1d34e14b2da3f97d08c47665da",
       "version_major": 2,
       "version_minor": 0
      },
      "text/plain": [
       "Button(button_style='info', description='Next Question', style=ButtonStyle())"
      ]
     },
     "metadata": {},
     "output_type": "display_data"
    }
   ],
   "source": [
    "# Run for each question\n",
    "\n",
    "# Pick a new random question and update the global variables\n",
    "current = random.choice(data)\n",
    "question = current[\"question\"]\n",
    "correct_answer = current[\"answer\"]\n",
    "\n",
    "# Clear previous input\n",
    "answer_input.value = \"\"\n",
    "\n",
    "# Display question and interactive widgets\n",
    "display(Markdown(f\"### 🧮 Question:\\n{question}\"))\n",
    "display(answer_input, submit_button, output, next_button)"
   ]
  },
  {
   "cell_type": "markdown",
   "id": "0208811b",
   "metadata": {},
   "source": [
    "# Enter Your Own Openai API Key"
   ]
  },
  {
   "cell_type": "code",
   "execution_count": 7,
   "id": "30019c34-6689-4a88-a756-d877c1c7c30a",
   "metadata": {},
   "outputs": [
    {
     "data": {
      "application/vnd.jupyter.widget-view+json": {
       "model_id": "d50e5e1a679044e4bae8c1d6ba2e3be3",
       "version_major": 2,
       "version_minor": 0
      },
      "text/plain": [
       "Password(description='API Key:', layout=Layout(width='50%'), placeholder='sk-...')"
      ]
     },
     "metadata": {},
     "output_type": "display_data"
    },
    {
     "data": {
      "application/vnd.jupyter.widget-view+json": {
       "model_id": "4f3264eb32f244c8a8fd64e517f86734",
       "version_major": 2,
       "version_minor": 0
      },
      "text/plain": [
       "Button(button_style='primary', description='Set API Key', style=ButtonStyle())"
      ]
     },
     "metadata": {},
     "output_type": "display_data"
    },
    {
     "data": {
      "application/vnd.jupyter.widget-view+json": {
       "model_id": "5cfcc2f9f03a452f863b79cc0c62fff4",
       "version_major": 2,
       "version_minor": 0
      },
      "text/plain": [
       "Output()"
      ]
     },
     "metadata": {},
     "output_type": "display_data"
    }
   ],
   "source": [
    "import ipywidgets as widgets\n",
    "from IPython.display import display, clear_output\n",
    "\n",
    "# Global variable to store API key in memory\n",
    "openai_api_key_holder = {\"key\": None}\n",
    "\n",
    "# Password input widget for API key\n",
    "api_input = widgets.Password(\n",
    "    description='API Key:',\n",
    "    placeholder='sk-...',\n",
    "    layout=widgets.Layout(width='50%')\n",
    ")\n",
    "\n",
    "# Submit button\n",
    "submit_api_button = widgets.Button(description='Set API Key', button_style='primary')\n",
    "api_output = widgets.Output()\n",
    "\n",
    "# Function to capture API key\n",
    "def set_api_key(b):\n",
    "    openai_api_key_holder[\"key\"] = api_input.value.strip()\n",
    "    with api_output:\n",
    "        clear_output()\n",
    "        if openai_api_key_holder[\"key\"].startswith(\"sk-\"):\n",
    "            print(\"✅ OpenAI API key set successfully.\")\n",
    "        else:\n",
    "            print(\"⚠️ Invalid API key format. Please double check.\")\n",
    "\n",
    "submit_api_button.on_click(set_api_key)\n",
    "\n",
    "# Display the widget\n",
    "display(api_input, submit_api_button, api_output)"
   ]
  },
  {
   "cell_type": "code",
   "execution_count": 7,
   "id": "c47da7fc-63ea-45fe-aa37-e9d093fce27b",
   "metadata": {},
   "outputs": [],
   "source": [
    "import random\n",
    "import openai\n",
    "from IPython.display import display, Markdown, Javascript\n",
    "import ipywidgets as widgets\n",
    "\n",
    "# -- Global Widgets --\n",
    "answer_input = widgets.Text(placeholder='Type your answer...', description='Your Answer:', layout=widgets.Layout(width='50%'))\n",
    "submit_button = widgets.Button(description=\"Submit Answer\", button_style='success')\n",
    "hint_button = widgets.Button(description=\"Need a Hint?\", button_style='info')\n",
    "full_explanation_btn = widgets.Button(description=\"Show Full Steps\", button_style='warning')\n",
    "next_button = widgets.Button(description=\"Next Question\", button_style='info')\n",
    "\n",
    "output = widgets.Output()\n",
    "hint_output = widgets.Output()\n",
    "full_explanation_output = widgets.Output()\n",
    "\n",
    "# -- Functions --\n",
    "\n",
    "def get_hint_with_openai(question_text):\n",
    "    try:\n",
    "        client = openai.OpenAI(api_key=openai_api_key_holder[\"key\"])\n",
    "        response = client.chat.completions.create(\n",
    "            model=\"gpt-3.5-turbo\",\n",
    "            messages=[\n",
    "                {\"role\": \"system\", \"content\": \"You are a math tutor giving helpful hints step-by-step.\"},\n",
    "                {\"role\": \"user\", \"content\": f\"Give me a hint for this math problem without solving it:\\n{question_text}\"}\n",
    "            ],\n",
    "            max_tokens=150,\n",
    "            temperature=0.5\n",
    "        )\n",
    "        return response.choices[0].message.content\n",
    "    except Exception as e:\n",
    "        return f\"❌ Error: {e}\"\n",
    "\n",
    "def get_full_solution_with_openai(question_text):\n",
    "    try:\n",
    "        client = openai.OpenAI(api_key=openai_api_key_holder[\"key\"])\n",
    "        response = client.chat.completions.create(\n",
    "            model=\"gpt-4o\",\n",
    "            messages=[\n",
    "                {\"role\": \"system\", \"content\": \"You are a math tutor giving full step-by-step solutions to word problems.\"},\n",
    "                {\"role\": \"user\", \"content\": f\"Give a full step-by-step solution to this math problem:\\n{question_text}\"}\n",
    "            ],\n",
    "            max_tokens=400,\n",
    "            temperature=0.3\n",
    "        )\n",
    "        return response.choices[0].message.content\n",
    "    except Exception as e:\n",
    "        return f\"❌ Error: {e}\"\n",
    "\n",
    "def on_submit(b):\n",
    "    output.clear_output()\n",
    "    user_answer = answer_input.value.strip()\n",
    "    try:\n",
    "        final_answer_str = correct_answer.split(\"####\")[-1].strip()\n",
    "        user_val = float(user_answer.replace(\",\", \"\"))\n",
    "        correct_val = float(final_answer_str.replace(\",\", \"\"))\n",
    "        result = f\"✅ Correct!\" if user_val == correct_val else f\"❌ Incorrect. The correct answer is: {final_answer_str}\"\n",
    "    except Exception as e:\n",
    "        result = f\"⚠️ Error in processing the answer: {e}\"\n",
    "    \n",
    "    with output:\n",
    "        print(result)\n",
    "        print(\"\\nCorrect Answer Explanation:\")\n",
    "        print(correct_answer)\n",
    "\n",
    "def on_hint(b):\n",
    "    hint_output.clear_output()\n",
    "    with hint_output:\n",
    "        display(Markdown(\"⏳ Generating hint...\"))\n",
    "    hint = get_hint_with_openai(question)\n",
    "    hint_output.clear_output()\n",
    "    with hint_output:\n",
    "        display(Markdown(f\"💡 **Hint:**\\n{hint}\"))\n",
    "\n",
    "def on_show_full_solution(b):\n",
    "    full_explanation_output.clear_output()\n",
    "    with full_explanation_output:\n",
    "        display(Markdown(\"⏳ Generating full solution...\"))\n",
    "    explanation = get_full_solution_with_openai(question)\n",
    "    full_explanation_output.clear_output()\n",
    "    with full_explanation_output:\n",
    "        display(Markdown(f\"📘 **Full Explanation:**\\n{explanation}\"))\n",
    "\n",
    "def rerun_current_cell(ev=None):\n",
    "    display(Javascript(\"Jupyter.notebook.execute_cell()\"))\n",
    "\n",
    "# -- Bind Buttons --\n",
    "submit_button.on_click(on_submit)\n",
    "hint_button.on_click(on_hint)\n",
    "full_explanation_btn.on_click(on_show_full_solution)\n",
    "next_button.on_click(rerun_current_cell)"
   ]
  },
  {
   "cell_type": "markdown",
   "id": "9684e736",
   "metadata": {},
   "source": [
    "## Random question, Answer check, Gpt hint, Gpt solution"
   ]
  },
  {
   "cell_type": "code",
   "execution_count": 9,
   "id": "e0a651b1",
   "metadata": {},
   "outputs": [
    {
     "data": {
      "application/javascript": [
       "Jupyter.notebook.execute_cell()"
      ],
      "text/plain": [
       "<IPython.core.display.Javascript object>"
      ]
     },
     "metadata": {},
     "output_type": "display_data"
    },
    {
     "data": {
      "text/markdown": [
       "### 🧮 Question:\n",
       "James spends 30 minutes twice a day on meditation.  How many hours a week does he spend meditating?"
      ],
      "text/plain": [
       "<IPython.core.display.Markdown object>"
      ]
     },
     "metadata": {},
     "output_type": "display_data"
    },
    {
     "data": {
      "application/vnd.jupyter.widget-view+json": {
       "model_id": "76c114949cd748e6a2d24def52fbe579",
       "version_major": 2,
       "version_minor": 0
      },
      "text/plain": [
       "Text(value='', description='Your Answer:', layout=Layout(width='50%'), placeholder='Type your answer...')"
      ]
     },
     "metadata": {},
     "output_type": "display_data"
    },
    {
     "data": {
      "application/vnd.jupyter.widget-view+json": {
       "model_id": "ce4429165c94483d99d495a2e0d0e31f",
       "version_major": 2,
       "version_minor": 0
      },
      "text/plain": [
       "Button(button_style='success', description='Submit Answer', style=ButtonStyle())"
      ]
     },
     "metadata": {},
     "output_type": "display_data"
    },
    {
     "data": {
      "application/vnd.jupyter.widget-view+json": {
       "model_id": "5ce4f4baeb0144a08ef1013b71b12aad",
       "version_major": 2,
       "version_minor": 0
      },
      "text/plain": [
       "Button(button_style='info', description='Need a Hint?', style=ButtonStyle())"
      ]
     },
     "metadata": {},
     "output_type": "display_data"
    },
    {
     "data": {
      "application/vnd.jupyter.widget-view+json": {
       "model_id": "945764a27e504f3cbcde8f129fb19af4",
       "version_major": 2,
       "version_minor": 0
      },
      "text/plain": [
       "Button(button_style='warning', description='Show Full Steps', style=ButtonStyle())"
      ]
     },
     "metadata": {},
     "output_type": "display_data"
    },
    {
     "data": {
      "application/vnd.jupyter.widget-view+json": {
       "model_id": "f4ce6c27203f4777a59eaab162daca53",
       "version_major": 2,
       "version_minor": 0
      },
      "text/plain": [
       "Button(button_style='info', description='Next Question', style=ButtonStyle())"
      ]
     },
     "metadata": {},
     "output_type": "display_data"
    },
    {
     "data": {
      "application/vnd.jupyter.widget-view+json": {
       "model_id": "c61186bfb28e416dbcbd5ede08d83a3e",
       "version_major": 2,
       "version_minor": 0
      },
      "text/plain": [
       "Output(outputs=({'output_type': 'stream', 'text': '✅ Correct!\\n\\nCorrect Answer Explanation:\\nIf the last four…"
      ]
     },
     "metadata": {},
     "output_type": "display_data"
    },
    {
     "data": {
      "application/vnd.jupyter.widget-view+json": {
       "model_id": "bcbed67448454809aabc0d92a1da3dd2",
       "version_major": 2,
       "version_minor": 0
      },
      "text/plain": [
       "Output(outputs=({'output_type': 'display_data', 'data': {'text/plain': '<IPython.core.display.Markdown object>…"
      ]
     },
     "metadata": {},
     "output_type": "display_data"
    },
    {
     "data": {
      "application/vnd.jupyter.widget-view+json": {
       "model_id": "83d793f1773e4663aa720f5f652b3b88",
       "version_major": 2,
       "version_minor": 0
      },
      "text/plain": [
       "Output(outputs=({'output_type': 'display_data', 'data': {'text/plain': '<IPython.core.display.Markdown object>…"
      ]
     },
     "metadata": {},
     "output_type": "display_data"
    }
   ],
   "source": [
    "# Sample a new question\n",
    "sample = random.choice(data)\n",
    "question = sample[\"question\"]\n",
    "correct_answer = sample[\"answer\"]\n",
    "\n",
    "# Clear outputs and reset inputs\n",
    "output.clear_output()\n",
    "hint_output.clear_output()\n",
    "full_explanation_output.clear_output()\n",
    "answer_input.value = \"\"\n",
    "\n",
    "# Display question and interface\n",
    "display(Markdown(f\"### 🧮 Question:\\n{question}\"))\n",
    "display(answer_input, submit_button, hint_button, full_explanation_btn, next_button, output, hint_output, full_explanation_output)"
   ]
  },
  {
   "cell_type": "code",
   "execution_count": 10,
   "id": "b20c8c5e",
   "metadata": {},
   "outputs": [],
   "source": [
    "# === Adaptive State Tracker ===\n",
    "user_state = {\n",
    "    \"difficulty\": \"easy\",\n",
    "    \"correct_streak\": 0\n",
    "}\n",
    "\n",
    "# === Difficulty Categorizer ===\n",
    "def categorize_question(q):\n",
    "    length = len(q[\"question\"].split())\n",
    "    if length < 15:\n",
    "        return \"easy\"\n",
    "    elif length < 30:\n",
    "        return \"medium\"\n",
    "    else:\n",
    "        return \"hard\"\n",
    "\n",
    "# === Difficulty Adjuster ===\n",
    "def adjust_difficulty(state, correct):\n",
    "    if correct:\n",
    "        state[\"correct_streak\"] += 1\n",
    "        if state[\"correct_streak\"] >= 2:\n",
    "            if state[\"difficulty\"] == \"easy\":\n",
    "                state[\"difficulty\"] = \"medium\"\n",
    "            elif state[\"difficulty\"] == \"medium\":\n",
    "                state[\"difficulty\"] = \"hard\"\n",
    "            state[\"correct_streak\"] = 0\n",
    "    else:\n",
    "        state[\"correct_streak\"] = 0\n",
    "        if state[\"difficulty\"] == \"hard\":\n",
    "            state[\"difficulty\"] = \"medium\"\n",
    "        elif state[\"difficulty\"] == \"medium\":\n",
    "            state[\"difficulty\"] = \"easy\"\n",
    "\n",
    "# === Pull New Question by Difficulty ===\n",
    "def get_question_by_difficulty(data, level):\n",
    "    pool = [q for q in data if categorize_question(q) == level]\n",
    "    return random.choice(pool) if pool else random.choice(data)\n",
    "\n",
    "# === Adaptive Submit Callback ===\n",
    "def adaptive_on_submit(b):\n",
    "    user_answer = answer_input.value.strip()\n",
    "\n",
    "    client = openai.OpenAI(api_key=openai_api_key_holder[\"key\"])\n",
    "    response = client.chat.completions.create(\n",
    "        model=\"gpt-4o\",\n",
    "        messages=[\n",
    "            {\"role\": \"system\", \"content\": \"You are a strict math grader. Return only 'Correct' or 'Incorrect'.\"},\n",
    "            {\"role\": \"user\", \"content\": f\"\"\"Question: {current_q['question']}\n",
    "Student's Answer: {user_answer}\n",
    "Correct Answer: {current_q['answer']}\n",
    "\n",
    "Is the student's answer correct? Just respond with 'Correct' or 'Incorrect'.\"\"\"}\n",
    "        ],\n",
    "        temperature=0\n",
    "    )\n",
    "    result = response.choices[0].message.content.strip()\n",
    "    correct = result == \"Correct\"\n",
    "\n",
    "    adjust_difficulty(user_state, correct)\n",
    "\n",
    "    result_text = \"✅ Correct!\" if correct else \"❌ Incorrect.\"\n",
    "    with output:\n",
    "        display(Markdown(f\"**{result_text}**\"))\n",
    "        display(Markdown(f\"**Expected Answer:** {current_q['answer']}\"))\n",
    "        display(Markdown(f\"**Streak:** {user_state['correct_streak']} | **Difficulty:** {user_state['difficulty'].upper()}\"))\n",
    "\n",
    "def ask_adaptive_question():\n",
    "    next()  # call the function below\n",
    "\n",
    "def next():\n",
    "    question = get_question_by_difficulty(data, user_state[\"difficulty\"])\n",
    "    input_box = widgets.Text(placeholder='Type your answer...')\n",
    "    out = widgets.Output()\n",
    "    hint_out = widgets.Output()\n",
    "    full_out = widgets.Output()\n",
    "\n",
    "    def on_submit(b):\n",
    "        user_answer = input_box.value.strip()\n",
    "        try:\n",
    "            client = openai.OpenAI(api_key=openai_api_key_holder[\"key\"])\n",
    "            res = client.chat.completions.create(\n",
    "                model=\"gpt-4o\",\n",
    "                messages=[\n",
    "                    {\"role\": \"system\", \"content\": \"You are a strict math grader. Return only 'Correct' or 'Incorrect'.\"},\n",
    "                    {\"role\": \"user\", \"content\": f\"\"\"Question: {question['question']}\n",
    "Student's Answer: {user_answer}\n",
    "Correct Answer: {question['answer']}\n",
    "Is the student's answer correct? Just respond with 'Correct' or 'Incorrect'.\"\"\"}\n",
    "                ],\n",
    "                temperature=0\n",
    "            )\n",
    "            result = res.choices[0].message.content.strip()\n",
    "            correct = result == \"Correct\"\n",
    "            adjust_difficulty(user_state, correct)\n",
    "\n",
    "            with out:\n",
    "                display(Markdown(f\"**{'✅ Correct!' if correct else '❌ Incorrect.'}**\"))\n",
    "                display(Markdown(f\"**Expected Answer:** {question['answer']}\"))\n",
    "                display(Markdown(f\"**Streak:** {user_state['correct_streak']} | **Difficulty:** {user_state['difficulty'].upper()}\"))\n",
    "        except Exception as e:\n",
    "            with out:\n",
    "                print(\"Error:\", e)\n",
    "\n",
    "    def on_hint(b):\n",
    "        hint_out.clear_output()\n",
    "        try:\n",
    "            client = openai.OpenAI(api_key=openai_api_key_holder[\"key\"])\n",
    "            res = client.chat.completions.create(\n",
    "                model=\"gpt-3.5-turbo\",# we use gpt-3.5-turbo to save budget: the hint does not require high performance model.\n",
    "                messages=[\n",
    "                    {\"role\": \"system\", \"content\": \"You are a helpful tutor. Provide a hint only.\"},\n",
    "                    {\"role\": \"user\", \"content\": f\"Give me a hint for this math problem:\\n{question['question']}\"}\n",
    "                ],\n",
    "                temperature=0.5\n",
    "            )\n",
    "            hint = res.choices[0].message.content.strip()\n",
    "            with hint_out:\n",
    "                display(Markdown(f\"💡 **Hint:** {hint}\"))\n",
    "        except Exception as e:\n",
    "            with hint_out:\n",
    "                print(\"Hint error:\", e)\n",
    "\n",
    "    def on_full(b):\n",
    "        full_out.clear_output()\n",
    "        try:\n",
    "            client = openai.OpenAI(api_key=openai_api_key_holder[\"key\"])\n",
    "            res = client.chat.completions.create(\n",
    "                model=\"gpt-4o\",\n",
    "                messages=[\n",
    "                    {\"role\": \"system\", \"content\": \"You are a math tutor. Give a full step-by-step explanation.\"},\n",
    "                    {\"role\": \"user\", \"content\": f\"Explain this math problem step-by-step:\\n{question['question']}\"}\n",
    "                ],\n",
    "                temperature=0.3\n",
    "            )\n",
    "            explanation = res.choices[0].message.content.strip()\n",
    "            with full_out:\n",
    "                display(Markdown(f\"📘 **Full Explanation:**\\n{explanation}\"))\n",
    "        except Exception as e:\n",
    "            with full_out:\n",
    "                print(\"Explanation error:\", e)\n",
    "\n",
    "    # Create buttons and bind\n",
    "    submit_btn = widgets.Button(description=\"Submit Answer\", button_style='success')\n",
    "    hint_btn = widgets.Button(description=\"Need a Hint?\", button_style='info')\n",
    "    expl_btn = widgets.Button(description=\"Show Full Steps\", button_style='warning')\n",
    "    next_btn = widgets.Button(description=\"Next Question\", button_style='primary')\n",
    "\n",
    "    submit_btn.on_click(on_submit)\n",
    "    hint_btn.on_click(on_hint)\n",
    "    expl_btn.on_click(on_full)\n",
    "    next_btn.on_click(lambda b: next())  \n",
    "\n",
    "    # Layout block\n",
    "    display(widgets.VBox([\n",
    "        widgets.HTML(f\"<h3>🎯 Level: <code>{user_state['difficulty'].upper()}</code></h3>\"),\n",
    "        widgets.HTML(f\"<b>Question:</b> {question['question']}\"),\n",
    "        input_box,\n",
    "        widgets.HBox([submit_btn, hint_btn, expl_btn, next_btn]),\n",
    "        out,\n",
    "        hint_out,\n",
    "        full_out\n",
    "    ]))\n"
   ]
  },
  {
   "cell_type": "markdown",
   "id": "c707689e",
   "metadata": {},
   "source": [
    "## Question Based on Correctness"
   ]
  },
  {
   "cell_type": "code",
   "execution_count": 12,
   "id": "29aa53ff",
   "metadata": {
    "scrolled": true
   },
   "outputs": [
    {
     "data": {
      "application/vnd.jupyter.widget-view+json": {
       "model_id": "3a1fd87a3f724953ab3199dbb9d8b123",
       "version_major": 2,
       "version_minor": 0
      },
      "text/plain": [
       "VBox(children=(HTML(value='<h3>🎯 Level: <code>EASY</code></h3>'), HTML(value='<b>Question:</b> Fifteen more th…"
      ]
     },
     "metadata": {},
     "output_type": "display_data"
    },
    {
     "data": {
      "application/vnd.jupyter.widget-view+json": {
       "model_id": "87a0983f38cb40f9a2ee69a650435a29",
       "version_major": 2,
       "version_minor": 0
      },
      "text/plain": [
       "VBox(children=(HTML(value='<h3>🎯 Level: <code>EASY</code></h3>'), HTML(value='<b>Question:</b> If 12 bags of o…"
      ]
     },
     "metadata": {},
     "output_type": "display_data"
    },
    {
     "data": {
      "application/vnd.jupyter.widget-view+json": {
       "model_id": "4a02cac6c1584eb5865546537b80fb12",
       "version_major": 2,
       "version_minor": 0
      },
      "text/plain": [
       "VBox(children=(HTML(value='<h3>🎯 Level: <code>MEDIUM</code></h3>'), HTML(value='<b>Question:</b> A 40 meters r…"
      ]
     },
     "metadata": {},
     "output_type": "display_data"
    },
    {
     "data": {
      "application/vnd.jupyter.widget-view+json": {
       "model_id": "0742e4f2d2294fcb97a141e31daf2821",
       "version_major": 2,
       "version_minor": 0
      },
      "text/plain": [
       "VBox(children=(HTML(value='<h3>🎯 Level: <code>MEDIUM</code></h3>'), HTML(value=\"<b>Question:</b> Steph needs t…"
      ]
     },
     "metadata": {},
     "output_type": "display_data"
    },
    {
     "data": {
      "application/vnd.jupyter.widget-view+json": {
       "model_id": "e62c75466fcf46f1976096993297748b",
       "version_major": 2,
       "version_minor": 0
      },
      "text/plain": [
       "VBox(children=(HTML(value='<h3>🎯 Level: <code>HARD</code></h3>'), HTML(value='<b>Question:</b> Bridget counted…"
      ]
     },
     "metadata": {},
     "output_type": "display_data"
    },
    {
     "data": {
      "application/vnd.jupyter.widget-view+json": {
       "model_id": "727aaa6f5cfa436fa99de8758365208b",
       "version_major": 2,
       "version_minor": 0
      },
      "text/plain": [
       "VBox(children=(HTML(value='<h3>🎯 Level: <code>HARD</code></h3>'), HTML(value='<b>Question:</b> Paul made two b…"
      ]
     },
     "metadata": {},
     "output_type": "display_data"
    },
    {
     "data": {
      "application/vnd.jupyter.widget-view+json": {
       "model_id": "5fbaffff660b4c4f881f6f90a25a892b",
       "version_major": 2,
       "version_minor": 0
      },
      "text/plain": [
       "VBox(children=(HTML(value='<h3>🎯 Level: <code>HARD</code></h3>'), HTML(value='<b>Question:</b> Buying a toaste…"
      ]
     },
     "metadata": {},
     "output_type": "display_data"
    }
   ],
   "source": [
    "ask_adaptive_question()"
   ]
  },
  {
   "cell_type": "markdown",
   "id": "3696b75e",
   "metadata": {},
   "source": [
    "# GPT Answer Comparison and Accuracy Evaluation "
   ]
  },
  {
   "cell_type": "code",
   "execution_count": 21,
   "id": "d40a8185",
   "metadata": {},
   "outputs": [
    {
     "name": "stderr",
     "output_type": "stream",
     "text": [
      " 19%|███████████████▍                                                                 | 19/100 [01:00<04:43,  3.50s/it]"
     ]
    },
    {
     "name": "stdout",
     "output_type": "stream",
     "text": [
      "⚠️ Missing '####' in answer. Using fallback.\n"
     ]
    },
    {
     "name": "stderr",
     "output_type": "stream",
     "text": [
      " 28%|██████████████████████▋                                                          | 28/100 [01:25<03:34,  2.98s/it]"
     ]
    },
    {
     "name": "stdout",
     "output_type": "stream",
     "text": [
      "⚠️ Missing '####' in answer. Using fallback.\n"
     ]
    },
    {
     "name": "stderr",
     "output_type": "stream",
     "text": [
      " 47%|██████████████████████████████████████                                           | 47/100 [02:26<03:09,  3.58s/it]"
     ]
    },
    {
     "name": "stdout",
     "output_type": "stream",
     "text": [
      "⚠️ Missing '####' in answer. Using fallback.\n"
     ]
    },
    {
     "name": "stderr",
     "output_type": "stream",
     "text": [
      "\r",
      " 48%|██████████████████████████████████████▉                                          | 48/100 [02:32<03:38,  4.20s/it]"
     ]
    },
    {
     "name": "stdout",
     "output_type": "stream",
     "text": [
      "⚠️ Missing '####' in answer. Using fallback.\n"
     ]
    },
    {
     "name": "stderr",
     "output_type": "stream",
     "text": [
      " 63%|███████████████████████████████████████████████████                              | 63/100 [03:21<01:38,  2.65s/it]"
     ]
    },
    {
     "name": "stdout",
     "output_type": "stream",
     "text": [
      "⚠️ Missing '####' in answer. Using fallback.\n"
     ]
    },
    {
     "name": "stderr",
     "output_type": "stream",
     "text": [
      "\r",
      " 64%|███████████████████████████████████████████████████▊                             | 64/100 [03:25<01:51,  3.09s/it]"
     ]
    },
    {
     "name": "stdout",
     "output_type": "stream",
     "text": [
      "⚠️ Missing '####' in answer. Using fallback.\n"
     ]
    },
    {
     "name": "stderr",
     "output_type": "stream",
     "text": [
      " 76%|█████████████████████████████████████████████████████████████▌                   | 76/100 [04:07<01:30,  3.75s/it]"
     ]
    },
    {
     "name": "stdout",
     "output_type": "stream",
     "text": [
      "⚠️ Missing '####' in answer. Using fallback.\n"
     ]
    },
    {
     "name": "stderr",
     "output_type": "stream",
     "text": [
      "\r",
      " 77%|██████████████████████████████████████████████████████████████▎                  | 77/100 [04:13<01:40,  4.37s/it]"
     ]
    },
    {
     "name": "stdout",
     "output_type": "stream",
     "text": [
      "⚠️ Missing '####' in answer. Using fallback.\n"
     ]
    },
    {
     "name": "stderr",
     "output_type": "stream",
     "text": [
      " 84%|████████████████████████████████████████████████████████████████████             | 84/100 [04:41<01:08,  4.31s/it]"
     ]
    },
    {
     "name": "stdout",
     "output_type": "stream",
     "text": [
      "⚠️ Missing '####' in answer. Using fallback.\n"
     ]
    },
    {
     "name": "stderr",
     "output_type": "stream",
     "text": [
      " 98%|███████████████████████████████████████████████████████████████████████████████▍ | 98/100 [05:38<00:10,  5.38s/it]"
     ]
    },
    {
     "name": "stdout",
     "output_type": "stream",
     "text": [
      "⚠️ Missing '####' in answer. Using fallback.\n"
     ]
    },
    {
     "name": "stderr",
     "output_type": "stream",
     "text": [
      "100%|████████████████████████████████████████████████████████████████████████████████| 100/100 [05:45<00:00,  3.45s/it]\n"
     ]
    }
   ],
   "source": [
    "# Do not run this cell to override the output\n",
    "import re\n",
    "import pandas as pd\n",
    "from tqdm import tqdm\n",
    "import random\n",
    "\n",
    "# Helper to extract final number from GPT response\n",
    "def extract_final_number(answer):\n",
    "    match = re.search(r\"####\\s*([\\d,\\.]+)\", answer)\n",
    "    if match:\n",
    "        return match.group(1).replace(\",\", \"\").strip()\n",
    "    return None\n",
    "\n",
    "# Fallback in case #### <number> isn't found\n",
    "def extract_fallback_number(text):\n",
    "    numbers = re.findall(r\"[-+]?\\d*\\.\\d+|\\d+\", text)\n",
    "    return numbers[-1] if numbers else None\n",
    "\n",
    "# Use N random test questions\n",
    "test_subset = random.sample(data, 100)  # we are testing 100 samples here.\n",
    "\n",
    "all_results = []\n",
    "\n",
    "for sample in tqdm(test_subset):\n",
    "    question = sample[\"question\"]\n",
    "    correct_answer = sample[\"answer\"]\n",
    "    prompt = f\"{question}\\n\\nAnswer the question above. End with '#### <final answer>'.\"\n",
    "\n",
    "    retries = 0\n",
    "    gpt_final = None\n",
    "    while retries < 2:\n",
    "        response = openai.OpenAI(api_key=openai_api_key_holder[\"key\"]).chat.completions.create(\n",
    "            model=\"gpt-4o\",\n",
    "            messages=[\n",
    "                {\"role\": \"system\", \"content\": \"You are a helpful math tutor. Always end with '#### <final answer>'.\"},\n",
    "                {\"role\": \"user\", \"content\": prompt}\n",
    "            ],\n",
    "            temperature=0.2\n",
    "        )\n",
    "        generated_answer = response.choices[0].message.content\n",
    "        gpt_final = extract_final_number(generated_answer)\n",
    "        if gpt_final:\n",
    "            break\n",
    "        retries += 1\n",
    "\n",
    "    # Use fallback if no proper final answer extracted\n",
    "    if not gpt_final:\n",
    "        print(\"⚠️ Missing '####' in answer. Using fallback.\")\n",
    "        gpt_final = extract_fallback_number(generated_answer)\n",
    "\n",
    "    ref_final = extract_final_number(correct_answer)\n",
    "    correct = gpt_final == ref_final if gpt_final and ref_final else False\n",
    "\n",
    "    all_results.append({\n",
    "        \"question\": question,\n",
    "        \"gpt_answer\": generated_answer,\n",
    "        \"correct_answer\": correct_answer,\n",
    "        \"gpt_final\": gpt_final,\n",
    "        \"ref_final\": ref_final,\n",
    "        \"correct\": correct\n",
    "    })"
   ]
  },
  {
   "cell_type": "code",
   "execution_count": 22,
   "id": "4d594022",
   "metadata": {},
   "outputs": [
    {
     "data": {
      "text/html": [
       "<div>\n",
       "<style scoped>\n",
       "    .dataframe tbody tr th:only-of-type {\n",
       "        vertical-align: middle;\n",
       "    }\n",
       "\n",
       "    .dataframe tbody tr th {\n",
       "        vertical-align: top;\n",
       "    }\n",
       "\n",
       "    .dataframe thead th {\n",
       "        text-align: right;\n",
       "    }\n",
       "</style>\n",
       "<table border=\"1\" class=\"dataframe\">\n",
       "  <thead>\n",
       "    <tr style=\"text-align: right;\">\n",
       "      <th></th>\n",
       "      <th>question</th>\n",
       "      <th>gpt_final</th>\n",
       "      <th>reference_answer</th>\n",
       "      <th>correct</th>\n",
       "    </tr>\n",
       "  </thead>\n",
       "  <tbody>\n",
       "    <tr>\n",
       "      <th>0</th>\n",
       "      <td>A hotel has 10 rooms and is currently full. Ea...</td>\n",
       "      <td>60</td>\n",
       "      <td>60</td>\n",
       "      <td>True</td>\n",
       "    </tr>\n",
       "    <tr>\n",
       "      <th>1</th>\n",
       "      <td>In the school's library, there are 2300 differ...</td>\n",
       "      <td>736</td>\n",
       "      <td>736</td>\n",
       "      <td>True</td>\n",
       "    </tr>\n",
       "    <tr>\n",
       "      <th>2</th>\n",
       "      <td>If a rectangle has a width of 42 inches and an...</td>\n",
       "      <td>10</td>\n",
       "      <td>10</td>\n",
       "      <td>True</td>\n",
       "    </tr>\n",
       "    <tr>\n",
       "      <th>3</th>\n",
       "      <td>Boris has 100 pieces of Halloween candy. His d...</td>\n",
       "      <td>20</td>\n",
       "      <td>20</td>\n",
       "      <td>True</td>\n",
       "    </tr>\n",
       "    <tr>\n",
       "      <th>4</th>\n",
       "      <td>There are 516 cars in a parking lot. One-third...</td>\n",
       "      <td>86</td>\n",
       "      <td>86</td>\n",
       "      <td>True</td>\n",
       "    </tr>\n",
       "    <tr>\n",
       "      <th>...</th>\n",
       "      <td>...</td>\n",
       "      <td>...</td>\n",
       "      <td>...</td>\n",
       "      <td>...</td>\n",
       "    </tr>\n",
       "    <tr>\n",
       "      <th>95</th>\n",
       "      <td>50% of substitute teachers walk out after 1 ho...</td>\n",
       "      <td>21</td>\n",
       "      <td>21</td>\n",
       "      <td>True</td>\n",
       "    </tr>\n",
       "    <tr>\n",
       "      <th>96</th>\n",
       "      <td>In a 60-item exam, Liza got 90% of the items c...</td>\n",
       "      <td>4</td>\n",
       "      <td>4</td>\n",
       "      <td>True</td>\n",
       "    </tr>\n",
       "    <tr>\n",
       "      <th>97</th>\n",
       "      <td>Henry took 9 pills a day for 14 days. Of these...</td>\n",
       "      <td>574.00</td>\n",
       "      <td>41</td>\n",
       "      <td>False</td>\n",
       "    </tr>\n",
       "    <tr>\n",
       "      <th>98</th>\n",
       "      <td>Belinda’s dog is missing, so she made 200 flye...</td>\n",
       "      <td>20</td>\n",
       "      <td>20</td>\n",
       "      <td>True</td>\n",
       "    </tr>\n",
       "    <tr>\n",
       "      <th>99</th>\n",
       "      <td>Rhea buys 2 trays of eggs every week for her f...</td>\n",
       "      <td>6</td>\n",
       "      <td>6</td>\n",
       "      <td>True</td>\n",
       "    </tr>\n",
       "  </tbody>\n",
       "</table>\n",
       "<p>100 rows × 4 columns</p>\n",
       "</div>"
      ],
      "text/plain": [
       "                                             question gpt_final  \\\n",
       "0   A hotel has 10 rooms and is currently full. Ea...        60   \n",
       "1   In the school's library, there are 2300 differ...       736   \n",
       "2   If a rectangle has a width of 42 inches and an...        10   \n",
       "3   Boris has 100 pieces of Halloween candy. His d...        20   \n",
       "4   There are 516 cars in a parking lot. One-third...        86   \n",
       "..                                                ...       ...   \n",
       "95  50% of substitute teachers walk out after 1 ho...        21   \n",
       "96  In a 60-item exam, Liza got 90% of the items c...         4   \n",
       "97  Henry took 9 pills a day for 14 days. Of these...    574.00   \n",
       "98  Belinda’s dog is missing, so she made 200 flye...        20   \n",
       "99  Rhea buys 2 trays of eggs every week for her f...         6   \n",
       "\n",
       "   reference_answer  correct  \n",
       "0                60     True  \n",
       "1               736     True  \n",
       "2                10     True  \n",
       "3                20     True  \n",
       "4                86     True  \n",
       "..              ...      ...  \n",
       "95               21     True  \n",
       "96                4     True  \n",
       "97               41    False  \n",
       "98               20     True  \n",
       "99                6     True  \n",
       "\n",
       "[100 rows x 4 columns]"
      ]
     },
     "metadata": {},
     "output_type": "display_data"
    },
    {
     "name": "stdout",
     "output_type": "stream",
     "text": [
      "\n",
      "✅ GPT Accuracy: 93.00%\n"
     ]
    }
   ],
   "source": [
    "# Create results DataFrame and show accuracy\n",
    "df_eval = pd.DataFrame(all_results)\n",
    "df_eval = df_eval.rename(columns={\"ref_final\": \"reference_answer\"})\n",
    "display(df_eval[[\"question\", \"gpt_final\", \"reference_answer\", \"correct\"]])\n",
    "print(f\"\\n✅ GPT Accuracy: {df_eval['correct'].mean():.2%}\")"
   ]
  },
  {
   "cell_type": "code",
   "execution_count": 28,
   "id": "8713c21d",
   "metadata": {},
   "outputs": [
    {
     "data": {
      "text/html": [
       "<div>\n",
       "<style scoped>\n",
       "    .dataframe tbody tr th:only-of-type {\n",
       "        vertical-align: middle;\n",
       "    }\n",
       "\n",
       "    .dataframe tbody tr th {\n",
       "        vertical-align: top;\n",
       "    }\n",
       "\n",
       "    .dataframe thead th {\n",
       "        text-align: right;\n",
       "    }\n",
       "</style>\n",
       "<table border=\"1\" class=\"dataframe\">\n",
       "  <thead>\n",
       "    <tr style=\"text-align: right;\">\n",
       "      <th></th>\n",
       "      <th>question</th>\n",
       "      <th>gpt_final</th>\n",
       "      <th>reference_answer</th>\n",
       "      <th>gpt_answer</th>\n",
       "    </tr>\n",
       "  </thead>\n",
       "  <tbody>\n",
       "    <tr>\n",
       "      <th>46</th>\n",
       "      <td>A 750 ml bottle of spirits costs $30.00 and ha...</td>\n",
       "      <td>98.00</td>\n",
       "      <td>98</td>\n",
       "      <td>To determine how much money a restaurant makes...</td>\n",
       "    </tr>\n",
       "    <tr>\n",
       "      <th>47</th>\n",
       "      <td>Travis goes through 2 boxes of cereal a week. ...</td>\n",
       "      <td>312.00</td>\n",
       "      <td>312</td>\n",
       "      <td>To find out how much Travis spends on cereal i...</td>\n",
       "    </tr>\n",
       "    <tr>\n",
       "      <th>62</th>\n",
       "      <td>John has to get a new blanket.  He decides to ...</td>\n",
       "      <td>240</td>\n",
       "      <td>2240</td>\n",
       "      <td>To find the cost of the quilt, we first need t...</td>\n",
       "    </tr>\n",
       "    <tr>\n",
       "      <th>66</th>\n",
       "      <td>Southton buries their time capsule 15 feet und...</td>\n",
       "      <td>72</td>\n",
       "      <td>48</td>\n",
       "      <td>To find the depth at which Northton's time cap...</td>\n",
       "    </tr>\n",
       "    <tr>\n",
       "      <th>75</th>\n",
       "      <td>Tonya has $150.00 on her credit card.  If she ...</td>\n",
       "      <td>100.00</td>\n",
       "      <td>120</td>\n",
       "      <td>Tonya currently has a balance of $150.00 on he...</td>\n",
       "    </tr>\n",
       "    <tr>\n",
       "      <th>76</th>\n",
       "      <td>Kurt's old refrigerator cost $0.85 a day in el...</td>\n",
       "      <td>12.00</td>\n",
       "      <td>12</td>\n",
       "      <td>To find out how much money Kurt saves in a 30-...</td>\n",
       "    </tr>\n",
       "    <tr>\n",
       "      <th>97</th>\n",
       "      <td>Henry took 9 pills a day for 14 days. Of these...</td>\n",
       "      <td>574.00</td>\n",
       "      <td>41</td>\n",
       "      <td>To find out how much Henry spent in total on t...</td>\n",
       "    </tr>\n",
       "  </tbody>\n",
       "</table>\n",
       "</div>"
      ],
      "text/plain": [
       "                                             question gpt_final  \\\n",
       "46  A 750 ml bottle of spirits costs $30.00 and ha...     98.00   \n",
       "47  Travis goes through 2 boxes of cereal a week. ...    312.00   \n",
       "62  John has to get a new blanket.  He decides to ...       240   \n",
       "66  Southton buries their time capsule 15 feet und...        72   \n",
       "75  Tonya has $150.00 on her credit card.  If she ...    100.00   \n",
       "76  Kurt's old refrigerator cost $0.85 a day in el...     12.00   \n",
       "97  Henry took 9 pills a day for 14 days. Of these...    574.00   \n",
       "\n",
       "   reference_answer                                         gpt_answer  \n",
       "46               98  To determine how much money a restaurant makes...  \n",
       "47              312  To find out how much Travis spends on cereal i...  \n",
       "62             2240  To find the cost of the quilt, we first need t...  \n",
       "66               48  To find the depth at which Northton's time cap...  \n",
       "75              120  Tonya currently has a balance of $150.00 on he...  \n",
       "76               12  To find out how much money Kurt saves in a 30-...  \n",
       "97               41  To find out how much Henry spent in total on t...  "
      ]
     },
     "metadata": {},
     "output_type": "display_data"
    },
    {
     "name": "stdout",
     "output_type": "stream",
     "text": [
      "\n",
      "✅ GPT Accuracy: 93.00%\n",
      "\n",
      "❌ Number of incorrect answers: 7\n"
     ]
    }
   ],
   "source": [
    "# Show only incorrect results\n",
    "incorrect_df = df_eval[df_eval[\"correct\"] == False]\n",
    "display(incorrect_df[[\"question\", \"gpt_final\", \"reference_answer\", \"gpt_answer\"]])\n",
    "print(f\"\\n✅ GPT Accuracy: {df_eval['correct'].mean():.2%}\")\n",
    "print(f\"\\n❌ Number of incorrect answers: {len(incorrect_df)}\")"
   ]
  },
  {
   "cell_type": "markdown",
   "id": "906f90e6",
   "metadata": {},
   "source": [
    "The table shows the incorrect results from GPT-4o’s performance on 100 randomly selected math word problems from the GSM8K dataset. The model was instructed to end each response with the format #### <final answer>, making it easier to extract and compare answers automatically.\n",
    "\n",
    "Initially, the model often failed to follow this format, which led to many missing answers and low accuracy. To address this, we added a fallback method that extracts the last number from the response when #### is missing. This fix greatly improved answer extraction and raised the model’s performance.\n",
    "\n",
    "Even with this fix, a few mismatches remained. Some were due to genuine calculation or interpretation errors. However, several were caused by formatting differences — for example, the model returned values like “98.00” instead of “98”, “312.00” instead of “312”, and “12.00” instead of “12”. These are numerically identical but were counted as incorrect because the evaluation uses exact string matching.\n",
    "\n",
    "As a result, the reported accuracy was 93%. But if we account for these formatting-only mismatches and treat them as correct, the actual GPT accuracy would be 96%. This highlights both the model's strong performance on word problems and the importance of using more flexible comparison methods when evaluating numeric outputs.\n",
    "\n",
    "\n",
    "\n",
    "\n",
    "\n",
    "\n",
    "\n",
    "\n"
   ]
  },
  {
   "cell_type": "markdown",
   "id": "d07d81ab",
   "metadata": {},
   "source": [
    "# Use of generative AI statement"
   ]
  },
  {
   "cell_type": "markdown",
   "id": "ab55f8b9",
   "metadata": {},
   "source": [
    "We have completed the coding and development of this project with the assistance of ChatGPT-4o, which supported implementation, debugging, and refinement of key components throughout the process."
   ]
  }
 ],
 "metadata": {
  "kernelspec": {
   "display_name": "Python 3 (ipykernel)",
   "language": "python",
   "name": "python3"
  },
  "language_info": {
   "codemirror_mode": {
    "name": "ipython",
    "version": 3
   },
   "file_extension": ".py",
   "mimetype": "text/x-python",
   "name": "python",
   "nbconvert_exporter": "python",
   "pygments_lexer": "ipython3",
   "version": "3.11.11"
  }
 },
 "nbformat": 4,
 "nbformat_minor": 5
}
